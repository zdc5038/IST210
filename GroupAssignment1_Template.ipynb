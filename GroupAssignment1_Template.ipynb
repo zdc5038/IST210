{
  "nbformat": 4,
  "nbformat_minor": 0,
  "metadata": {
    "colab": {
      "name": "Copy of GroupAssignment1-Template.ipynb",
      "provenance": [],
      "include_colab_link": true
    },
    "kernelspec": {
      "name": "python3",
      "display_name": "Python 3"
    }
  },
  "cells": [
    {
      "cell_type": "markdown",
      "metadata": {
        "id": "view-in-github",
        "colab_type": "text"
      },
      "source": [
        "<a href=\"https://colab.research.google.com/github/zdc5038/IST210/blob/master/GroupAssignment1_Template.ipynb\" target=\"_parent\"><img src=\"https://colab.research.google.com/assets/colab-badge.svg\" alt=\"Open In Colab\"/></a>"
      ]
    },
    {
      "cell_type": "markdown",
      "metadata": {
        "id": "UblhAIGuGF27",
        "colab_type": "text"
      },
      "source": [
        "# Movie Theater Database"
      ]
    },
    {
      "cell_type": "markdown",
      "metadata": {
        "id": "RlR0_Ol4GW3b",
        "colab_type": "text"
      },
      "source": [
        "### what is your idea?"
      ]
    },
    {
      "cell_type": "markdown",
      "metadata": {
        "id": "HU68Zv5MGY97",
        "colab_type": "text"
      },
      "source": [
        "-- Our idea is to have a database consisting of the entities that make up a theater that has both options of a normal movie theater and a drive in option. We will be collecting data about the employees, movies, and components that make up a drive-in and movie theater."
      ]
    },
    {
      "cell_type": "markdown",
      "metadata": {
        "id": "45Q0PBrIGiIg",
        "colab_type": "text"
      },
      "source": [
        "### what makes it unique?"
      ]
    },
    {
      "cell_type": "markdown",
      "metadata": {
        "id": "8WOfTAuqGjoc",
        "colab_type": "text"
      },
      "source": [
        "-- This business has an indoor theater while also maintaining an outdoor seating area consisting of a drive-in. In order to keep business going through Covid, we combined the features of a drive-in and a movie theater."
      ]
    },
    {
      "cell_type": "markdown",
      "metadata": {
        "id": "dVrktWdXGl19",
        "colab_type": "text"
      },
      "source": [
        "### is this a brand-new product or business, or are you borrowing from another business?"
      ]
    },
    {
      "cell_type": "markdown",
      "metadata": {
        "id": "MmGY0leUGnaN",
        "colab_type": "text"
      },
      "source": [
        "-- This is a combination of separate businesses that already exist in one place. We are combining the two ideas of a movie theater business and a drive-in."
      ]
    },
    {
      "cell_type": "markdown",
      "metadata": {
        "id": "k3oJzVDPGnws",
        "colab_type": "text"
      },
      "source": [
        "### describe a typical business interaction or a day at your business."
      ]
    },
    {
      "cell_type": "markdown",
      "metadata": {
        "id": "GeEKl-lUG1x5",
        "colab_type": "text"
      },
      "source": [
        "-- Customers will pull up to a ticket booth, ask the employee for a ticket for a specific movie and park in the spot designated on the ticket. If a customer decides to go to an indoor movie, they go to the ticket booth in the theater and purchase the ticket for the specific movie they want to see, then they go to the screening room.  After the customer parks they go to the concession stand to get food/beverages. The employees then clean up the theaters after the films have ended.\n",
        "\n"
      ]
    },
    {
      "cell_type": "markdown",
      "metadata": {
        "id": "iUFoC5BuGpID",
        "colab_type": "text"
      },
      "source": [
        "### list your 5 entities/tables and for each, provide details about what data will be stored in the entities/tables."
      ]
    },
    {
      "cell_type": "markdown",
      "metadata": {
        "id": "AiZXrfSMGqZm",
        "colab_type": "text"
      },
      "source": [
        "1. Screening Room\n",
        "\n",
        "-- The entity screening room consists of the items that make up a screening room such as the seats and projectors.\n",
        "\n",
        "2. Employees\n",
        "\n",
        "-- The entity employees consists of the employees’ first and last names and their positions and the number of hours that work.\n",
        "\n",
        "3. Movie\n",
        "\n",
        "-- The entity movie consists of the type of movie and the title and actors within the movies that are being shown.\n",
        "\n",
        "4. Outdoor Lot\n",
        "\n",
        "-- The entity outdoor lot consists of the components needed to run a drive-in theater as well as the numbers of rows and columns so the business knows how many cars they are able to hold per showing.\n",
        "\n",
        "5. Concession Stand\n",
        "\n",
        "-- The entity concession stand consists of the food, drinks, snacks and toys within the movie theatre itself and will be sold to customers."
      ]
    },
    {
      "cell_type": "markdown",
      "metadata": {
        "id": "X_t2qJEDvLJb",
        "colab_type": "text"
      },
      "source": [
        "![Lab 1 210 Project ER Diagram](https://raw.githubusercontent.com/lqr5252/Lab-1/master/images/Lab%201%20210%20Project%20ER%20Diagram.png)"
      ]
    },
    {
      "cell_type": "markdown",
      "metadata": {
        "id": "WFQXwieoHiCe",
        "colab_type": "text"
      },
      "source": [
        "### provide a goal for your project "
      ]
    },
    {
      "cell_type": "markdown",
      "metadata": {
        "id": "cKmoiVHrHnHF",
        "colab_type": "text"
      },
      "source": [
        "-- The goal of our project is to combine two different business types into one business(Traditional Screening Room Theater and Drive-in Movie Theater). Prior to the coronavirus, drive-in movie theaters were a dying business model however, we feel that giving this socially distanced option to customers can revive this activity while still providing indoor options to paying customers. In light of the current pandemic situation, this new drive in/inside movie theatre will provide the most practicality while we go back to a normal life. "
      ]
    }
  ]
}