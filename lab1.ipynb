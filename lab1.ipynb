{
  "nbformat": 4,
  "nbformat_minor": 0,
  "metadata": {
    "colab": {
      "name": "Untitled0.ipynb",
      "provenance": [],
      "authorship_tag": "ABX9TyNBc7Aj6z4CVCqIWxdfWHM4",
      "include_colab_link": true
    },
    "kernelspec": {
      "name": "python3",
      "display_name": "Python 3"
    }
  },
  "cells": [
    {
      "cell_type": "markdown",
      "metadata": {
        "id": "view-in-github",
        "colab_type": "text"
      },
      "source": [
        "<a href=\"https://colab.research.google.com/github/zdc5038/IST210/blob/master/lab1.ipynb\" target=\"_parent\"><img src=\"https://colab.research.google.com/assets/colab-badge.svg\" alt=\"Open In Colab\"/></a>"
      ]
    },
    {
      "cell_type": "markdown",
      "metadata": {
        "id": "o98qJXJxn_55",
        "colab_type": "text"
      },
      "source": [
        "#Do you like using Jupyter Notebooks?"
      ]
    },
    {
      "cell_type": "markdown",
      "metadata": {
        "id": "Q2y5zGOroHwK",
        "colab_type": "text"
      },
      "source": [
        "I love using Jupyter Notebooks. \n",
        "They are very fun to use "
      ]
    },
    {
      "cell_type": "markdown",
      "metadata": {
        "id": "YFg8ALvloRcJ",
        "colab_type": "text"
      },
      "source": [
        "# What do you want to learn more about in Jupyter Notebooks?"
      ]
    },
    {
      "cell_type": "markdown",
      "metadata": {
        "id": "v2tbrTS3onoS",
        "colab_type": "text"
      },
      "source": [
        "I want to learn more about data and the organization of data itself"
      ]
    },
    {
      "cell_type": "markdown",
      "metadata": {
        "id": "NJQwvAC2rH24",
        "colab_type": "text"
      },
      "source": [
        "![lego-star-wars-profile-7](https://raw.githubusercontent.com/zdc5038/IST210/master/lego-star-wars-profile-7.jpg)"
      ]
    }
  ]
}